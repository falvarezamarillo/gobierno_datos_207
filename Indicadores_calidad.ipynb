{
  "nbformat": 4,
  "nbformat_minor": 0,
  "metadata": {
    "colab": {
      "provenance": [],
      "authorship_tag": "ABX9TyOUhe/+1NnRIE5vLD8A4C8p",
      "include_colab_link": true
    },
    "kernelspec": {
      "name": "python3",
      "display_name": "Python 3"
    },
    "language_info": {
      "name": "python"
    }
  },
  "cells": [
    {
      "cell_type": "markdown",
      "metadata": {
        "id": "view-in-github",
        "colab_type": "text"
      },
      "source": [
        "<a href=\"https://colab.research.google.com/github/falvarezamarillo/gobierno_datos_207/blob/main/Indicadores_calidad.ipynb\" target=\"_parent\"><img src=\"https://colab.research.google.com/assets/colab-badge.svg\" alt=\"Open In Colab\"/></a>"
      ]
    },
    {
      "cell_type": "code",
      "execution_count": 1,
      "metadata": {
        "id": "-iZUngp6jduI",
        "colab": {
          "base_uri": "https://localhost:8080/"
        },
        "outputId": "9031ef78-8dc1-4331-b1fe-2dc41044dd9b"
      },
      "outputs": [
        {
          "output_type": "stream",
          "name": "stdout",
          "text": [
            "Collecting newsapi-python\n",
            "  Downloading newsapi_python-0.2.7-py2.py3-none-any.whl.metadata (1.2 kB)\n",
            "Requirement already satisfied: requests<3.0.0 in /usr/local/lib/python3.11/dist-packages (from newsapi-python) (2.32.3)\n",
            "Requirement already satisfied: charset-normalizer<4,>=2 in /usr/local/lib/python3.11/dist-packages (from requests<3.0.0->newsapi-python) (3.4.1)\n",
            "Requirement already satisfied: idna<4,>=2.5 in /usr/local/lib/python3.11/dist-packages (from requests<3.0.0->newsapi-python) (3.10)\n",
            "Requirement already satisfied: urllib3<3,>=1.21.1 in /usr/local/lib/python3.11/dist-packages (from requests<3.0.0->newsapi-python) (2.3.0)\n",
            "Requirement already satisfied: certifi>=2017.4.17 in /usr/local/lib/python3.11/dist-packages (from requests<3.0.0->newsapi-python) (2025.1.31)\n",
            "Downloading newsapi_python-0.2.7-py2.py3-none-any.whl (7.9 kB)\n",
            "Installing collected packages: newsapi-python\n",
            "Successfully installed newsapi-python-0.2.7\n",
            "Requirement already satisfied: pandas in /usr/local/lib/python3.11/dist-packages (2.2.2)\n",
            "Requirement already satisfied: numpy in /usr/local/lib/python3.11/dist-packages (2.0.2)\n",
            "Requirement already satisfied: requests in /usr/local/lib/python3.11/dist-packages (2.32.3)\n",
            "Requirement already satisfied: python-dateutil>=2.8.2 in /usr/local/lib/python3.11/dist-packages (from pandas) (2.8.2)\n",
            "Requirement already satisfied: pytz>=2020.1 in /usr/local/lib/python3.11/dist-packages (from pandas) (2025.2)\n",
            "Requirement already satisfied: tzdata>=2022.7 in /usr/local/lib/python3.11/dist-packages (from pandas) (2025.2)\n",
            "Requirement already satisfied: charset-normalizer<4,>=2 in /usr/local/lib/python3.11/dist-packages (from requests) (3.4.1)\n",
            "Requirement already satisfied: idna<4,>=2.5 in /usr/local/lib/python3.11/dist-packages (from requests) (3.10)\n",
            "Requirement already satisfied: urllib3<3,>=1.21.1 in /usr/local/lib/python3.11/dist-packages (from requests) (2.3.0)\n",
            "Requirement already satisfied: certifi>=2017.4.17 in /usr/local/lib/python3.11/dist-packages (from requests) (2025.1.31)\n",
            "Requirement already satisfied: six>=1.5 in /usr/local/lib/python3.11/dist-packages (from python-dateutil>=2.8.2->pandas) (1.17.0)\n"
          ]
        }
      ],
      "source": [
        "!pip install newsapi-python\n",
        "!pip install pandas numpy requests"
      ]
    },
    {
      "cell_type": "code",
      "source": [
        "import pandas as pd\n",
        "import numpy as np\n",
        "import requests\n",
        "from datetime import datetime, timedelta\n",
        "from newsapi import NewsApiClient\n",
        "\n",
        "# -------------------------------\n",
        "# 1. Configuración de API Keys\n",
        "# -------------------------------\n",
        "# API Key para NewsAPI (regístrate en https://newsapi.org/)\n",
        "NEWS_API_KEY = \"f89e41ed7e8f4b66a0a0279304f2c563\"  # <-- Reemplaza aquí\n",
        "\n",
        "# API Key para OpenWeatherMap (regístrate en https://openweathermap.org/)\n",
        "OPENWEATHER_API_KEY = \"9dfdfa17227e85b405605d9ec193d242\"  # <-- Reemplaza aquí\n",
        "\n",
        "# Nota: La API del BCRP no requiere API key para consultar las series.\n",
        "\n",
        "# -------------------------------"
      ],
      "metadata": {
        "id": "TWOipP1_AOK-"
      },
      "execution_count": 2,
      "outputs": []
    },
    {
      "cell_type": "code",
      "source": [
        "# 2. Extracción de Datos Externos\n",
        "# -------------------------------\n",
        "\n",
        "## a) Noticias de Perú usando fuentes específicas de NewsAPI con fallback a get_everything\n",
        "## a) Noticias de Perú usando get_everything\n",
        "def fetch_news_data():\n",
        "    # Inicializa el cliente de NewsAPI\n",
        "    newsapi = NewsApiClient(api_key=NEWS_API_KEY)\n",
        "\n",
        "    # Consulta todas las noticias que contengan \"peru\" en español\n",
        "    response = newsapi.get_everything(q=\"peru\", language=\"es\")\n",
        "    articles = response.get(\"articles\", [])\n",
        "\n",
        "    # Extrae la información relevante y crea una lista de registros\n",
        "    news_list = []\n",
        "    for art in articles:\n",
        "        news_list.append({\n",
        "            \"titulo\": art.get(\"title\"),\n",
        "            \"descripcion\": art.get(\"description\"),\n",
        "            \"fecha\": art.get(\"publishedAt\"),\n",
        "            \"fuente\": art.get(\"source\", {}).get(\"name\")\n",
        "        })\n",
        "    return pd.DataFrame(news_list)\n",
        "\n",
        "df_news = fetch_news_data()\n",
        "\n"
      ],
      "metadata": {
        "id": "zuuDvnhLAx9o"
      },
      "execution_count": 5,
      "outputs": []
    },
    {
      "cell_type": "code",
      "source": [
        "## b) Temperatura en Perú por Ciudad usando OpenWeatherMap\n",
        "def fetch_temperature_data(city):\n",
        "    url = \"http://api.openweathermap.org/data/2.5/weather\"\n",
        "    params = {\n",
        "        \"q\": f\"{city},pe\",  # Ciudad en Perú\n",
        "        \"appid\": OPENWEATHER_API_KEY,\n",
        "        \"units\": \"metric\",  # Temperatura en Celsius\n",
        "        \"lang\": \"es\"\n",
        "    }\n",
        "    response = requests.get(url, params=params)\n",
        "    if response.status_code == 200:\n",
        "        data = response.json()\n",
        "        temp_data = {\n",
        "            \"ciudad\": city,\n",
        "            \"temperatura\": data.get(\"main\", {}).get(\"temp\"),\n",
        "            \"humedad\": data.get(\"main\", {}).get(\"humidity\"),\n",
        "            \"fecha\": datetime.utcfromtimestamp(data.get(\"dt\")).strftime(\"%Y-%m-%d %H:%M:%S\")\n",
        "        }\n",
        "        return temp_data\n",
        "    else:\n",
        "        print(f\"Error al obtener datos para {city}: {response.status_code}\")\n",
        "        return None\n",
        "\n",
        "# Lista de las capitales de los departamentos de Perú\n",
        "capitales = [\n",
        "    \"Chachapoyas\", \"Huaraz\", \"Abancay\", \"Arequipa\", \"Ayacucho\", \"Cajamarca\", \"Callao\",\n",
        "    \"Cusco\", \"Huancavelica\", \"Huánuco\", \"Ica\", \"Huancayo\", \"Trujillo\", \"Chiclayo\",\n",
        "    \"Lima\", \"Iquitos\", \"Puerto Maldonado\", \"Moquegua\", \"Cerro de Pasco\", \"Piura\",\n",
        "    \"Puno\", \"Moyobamba\", \"Tacna\", \"Tumbes\", \"Pucallpa\"\n",
        "]\n",
        "temp_data_list = [fetch_temperature_data(capital) for capital in capitales]\n",
        "temp_data_list = [d for d in temp_data_list if d is not None]\n",
        "df_temp = pd.DataFrame(temp_data_list)"
      ],
      "metadata": {
        "id": "n3uXuu99BGXG"
      },
      "execution_count": 6,
      "outputs": []
    },
    {
      "cell_type": "code",
      "source": [
        "## c) Tipo de Cambio: Variaciones del Día en Perú de los Últimos 4 Años usando la API del BCRP\n",
        "# Se utiliza el código de serie \"3186\" (ajústalo si es necesario) según la documentación:\n",
        "# https://estadisticas.bcrp.gob.pe/estadisticas/series/ayuda/api\n",
        "def fetch_exchange_rate_data(series_id=\"PD04637PD\"):\n",
        "    # Calcular fechas para los últimos 4 años\n",
        "    fecha_final = datetime.today()\n",
        "    fecha_inicial = fecha_final - timedelta(days=4*365)  # Aproximación de 4 años\n",
        "\n",
        "    # Formato de fecha requerido: 'dd-mm-yyyy'\n",
        "    fecha_inicial_str = fecha_inicial.strftime(\"%d-%m-%Y\")\n",
        "    fecha_final_str = fecha_final.strftime(\"%d-%m-%Y\")\n",
        "\n",
        "    # Construir la URL según la documentación del BCRP\n",
        "    url = f\"https://estadisticas.bcrp.gob.pe/estadisticas/series/api/{series_id}/json/\" #{fecha_inicial_str}/{fecha_final_str}\n",
        "\n",
        "    response = requests.get(url)\n",
        "    if response.status_code == 200:\n",
        "        data = response.json()\n",
        "        # Se espera que la respuesta contenga una lista de observaciones en el campo \"Serie\"\n",
        "        series_data = data.get(\"Serie\", [])\n",
        "        records = []\n",
        "        for item in series_data:\n",
        "            records.append({\n",
        "                \"fecha\": item.get(\"fecha\"),\n",
        "                \"tipo_cambio\": float(item.get(\"dato\", 0))\n",
        "            })\n",
        "        return pd.DataFrame(records)\n",
        "    else:\n",
        "        print(\"Error al obtener datos del tipo de cambio:\", response.status_code)\n",
        "        return pd.DataFrame()\n",
        "\n",
        "df_exchange = fetch_exchange_rate_data()"
      ],
      "metadata": {
        "id": "xZGtg6CfBLg4"
      },
      "execution_count": 16,
      "outputs": []
    },
    {
      "cell_type": "code",
      "source": [
        "# -------------------------------\n",
        "# 3. Aplicación de Reglas de Calidad de Datos\n",
        "# -------------------------------\n",
        "def quality_report(df, dataset_name=\"Dataset\"):\n",
        "    report = {}\n",
        "    total_rows = df.shape[0]\n",
        "\n",
        "    # Completitud: porcentaje de datos no nulos por columna\n",
        "    completeness = df.notnull().mean() * 100\n",
        "    report['completeness'] = completeness.to_dict()\n",
        "\n",
        "    # Duplicados: cantidad y porcentaje\n",
        "    duplicate_count = df.duplicated().sum()\n",
        "    report['duplicates'] = {\n",
        "        \"count\": int(duplicate_count),\n",
        "        \"percentage\": (duplicate_count / total_rows * 100) if total_rows > 0 else np.nan\n",
        "    }\n",
        "\n",
        "    # Validaciones específicas por dataset\n",
        "    validations = {}\n",
        "    if dataset_name == \"Noticias\":\n",
        "        if \"fecha\" in df.columns:\n",
        "            valid_date = pd.to_datetime(df['fecha'], errors='coerce').notnull().mean() * 100\n",
        "            validations['fecha_valida (%)'] = valid_date\n",
        "    elif dataset_name == \"Temperatura\":\n",
        "        if \"temperatura\" in df.columns:\n",
        "            # Suponemos que la temperatura en ciudades de Perú está entre -10 y 50°C\n",
        "            valid_temp = df['temperatura'].between(-10, 50).mean() * 100\n",
        "            validations['temperatura_valida (%)'] = valid_temp\n",
        "    elif dataset_name == \"Tipo de Cambio\":\n",
        "        if \"tipo_cambio\" in df.columns:\n",
        "            # Se asume que el tipo de cambio USD/PEN está en un rango razonable (por ejemplo, 2.5 a 5.0)\n",
        "            valid_tc = df['tipo_cambio'].between(2.5, 5.0).mean() * 100\n",
        "            validations['tipo_cambio_valido (%)'] = valid_tc\n",
        "\n",
        "    report['validations'] = validations\n",
        "    report['total_rows'] = total_rows\n",
        "    return report\n",
        "\n",
        "# Generar reportes de calidad para cada dataset\n",
        "report_news = quality_report(df_news, dataset_name=\"Noticias\")\n",
        "report_temp = quality_report(df_temp, dataset_name=\"Temperatura\")\n",
        "report_exchange = quality_report(df_exchange, dataset_name=\"Tipo de Cambio\")\n",
        "\n",
        "\n",
        "# -------------------------------"
      ],
      "metadata": {
        "id": "35t8rZbMAhGo"
      },
      "execution_count": 17,
      "outputs": []
    },
    {
      "cell_type": "code",
      "source": [
        "# 4. Resumen de KPIs de Calidad de Datos\n",
        "# -------------------------------\n",
        "def print_quality_summary(report, dataset_name):\n",
        "    print(f\"=== Resumen de Calidad para {dataset_name} ===\")\n",
        "    print(f\"Total de registros: {report.get('total_rows', 0)}\")\n",
        "    print(\"Completitud por columna:\")\n",
        "    for col, pct in report.get('completeness', {}).items():\n",
        "        print(f\"  - {col}: {pct:.2f}%\")\n",
        "    dup = report.get('duplicates', {})\n",
        "    print(f\"Duplicados: {dup.get('count',0)} ({dup.get('percentage',0):.2f}%)\")\n",
        "    print(\"Validaciones específicas:\")\n",
        "    for key, value in report.get('validations', {}).items():\n",
        "        print(f\"  - {key}: {value:.2f}%\")\n",
        "    print(\"\\n\")\n",
        "\n",
        "print_quality_summary(report_news, \"Noticias\")\n",
        "print_quality_summary(report_temp, \"Temperatura\")\n",
        "print_quality_summary(report_exchange, \"Tipo de Cambio\")"
      ],
      "metadata": {
        "colab": {
          "base_uri": "https://localhost:8080/"
        },
        "id": "zMj0Gp3wAweC",
        "outputId": "554a1380-f937-4678-b4b6-7cccce7383c7"
      },
      "execution_count": 18,
      "outputs": [
        {
          "output_type": "stream",
          "name": "stdout",
          "text": [
            "=== Resumen de Calidad para Noticias ===\n",
            "Total de registros: 25\n",
            "Completitud por columna:\n",
            "  - titulo: 100.00%\n",
            "  - descripcion: 100.00%\n",
            "  - fecha: 100.00%\n",
            "  - fuente: 100.00%\n",
            "Duplicados: 0 (0.00%)\n",
            "Validaciones específicas:\n",
            "  - fecha_valida (%): 100.00%\n",
            "\n",
            "\n",
            "=== Resumen de Calidad para Temperatura ===\n",
            "Total de registros: 25\n",
            "Completitud por columna:\n",
            "  - ciudad: 100.00%\n",
            "  - temperatura: 100.00%\n",
            "  - humedad: 100.00%\n",
            "  - fecha: 100.00%\n",
            "Duplicados: 0 (0.00%)\n",
            "Validaciones específicas:\n",
            "  - temperatura_valida (%): 100.00%\n",
            "\n",
            "\n",
            "=== Resumen de Calidad para Tipo de Cambio ===\n",
            "Total de registros: 0\n",
            "Completitud por columna:\n",
            "Duplicados: 0 (nan%)\n",
            "Validaciones específicas:\n",
            "\n",
            "\n"
          ]
        }
      ]
    }
  ]
}